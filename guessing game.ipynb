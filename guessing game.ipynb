{
 "cells": [
  {
   "cell_type": "markdown",
   "metadata": {},
   "source": [
    "# Guessing Game"
   ]
  },
  {
   "cell_type": "code",
   "execution_count": 1,
   "metadata": {},
   "outputs": [
    {
     "name": "stdout",
     "output_type": "stream",
     "text": [
      "Enter your guess between 1 and 10050\n",
      "higher\n",
      "Enter your guess between 1 and 10070\n",
      "higher\n",
      "Enter your guess between 1 and 10090\n",
      "Lower\n",
      "Enter your guess between 1 and 10080\n",
      "Lower\n",
      "Enter your guess between 1 and 10075\n",
      "higher\n",
      "Enter your guess between 1 and 10077\n",
      "higher\n",
      "Enter your guess between 1 and 10078\n",
      "you guessed it!!!! bingggoooo\n",
      "you took 6 number of times! to guess!!\n",
      "computer took 4 steps!!!\n"
     ]
    }
   ],
   "source": [
    "import random\n",
    "\n",
    "\n",
    "def computerGuess(lowval, highval, randnum, count=0):\n",
    "    if highval >= lowval:\n",
    "        guess = lowval + (highval - lowval) // 2\n",
    "        if guess == randnum:\n",
    "            return count\n",
    "        # if the guess is greater than the number, then it must be\n",
    "        # found in the lower half of the number\n",
    "        elif guess > randnum:\n",
    "            count = count + 1\n",
    "            return computerGuess(lowval, guess - 1, randnum, count)\n",
    "            # here guess is lower than number, must be in upper half\n",
    "        else:\n",
    "            count = count + 1\n",
    "            return computerGuess( guess + 1, highval, randnum, count)\n",
    "\n",
    "    else:\n",
    "        # number not found\n",
    "        return -1\n",
    "        #the random -1 gives none as its result.\n",
    "\n",
    "# generate a random betwee 1 and 100\n",
    "randnum = random.randint(1, 101)\n",
    "\n",
    "# Get the users guess\n",
    "count = 0\n",
    "guess = -99\n",
    "while (guess != randnum):\n",
    "    guess = int(input(\"Enter your guess between 1 and 100\"))\n",
    "    # decision tree\n",
    "    if guess < randnum:\n",
    "        print(\"higher\")\n",
    "    elif guess > randnum:\n",
    "        print(\"Lower\")\n",
    "    else:\n",
    "        print(\"you guessed it!!!! bingggoooo\")\n",
    "        break\n",
    "    count = count + 1\n",
    "# end of while loop\n",
    "print(\"you took \" + str(count) + \" number of times! to guess!!\")\n",
    "print(\"computer took \" + str(computerGuess(0, 100, randnum)) + \" steps!!!\")"
   ]
  },
  {
   "cell_type": "code",
   "execution_count": null,
   "metadata": {},
   "outputs": [],
   "source": []
  }
 ],
 "metadata": {
  "kernelspec": {
   "display_name": "Python 3",
   "language": "python",
   "name": "python3"
  },
  "language_info": {
   "codemirror_mode": {
    "name": "ipython",
    "version": 3
   },
   "file_extension": ".py",
   "mimetype": "text/x-python",
   "name": "python",
   "nbconvert_exporter": "python",
   "pygments_lexer": "ipython3",
   "version": "3.8.3"
  }
 },
 "nbformat": 4,
 "nbformat_minor": 4
}
